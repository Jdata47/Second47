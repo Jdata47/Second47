{
 "cells": [
  {
   "cell_type": "code",
   "execution_count": 2,
   "id": "5fb6ee37",
   "metadata": {},
   "outputs": [
    {
     "name": "stdout",
     "output_type": "stream",
     "text": [
      "Excellent\n"
     ]
    }
   ],
   "source": [
    "Student_score = 90\n",
    "if Student_score >=90:\n",
    "    print('Excellent')\n",
    "elif Student_score>= 70 and Student_score<= 89:\n",
    "    print(\"Good\")\n",
    "elif Student_score >= 50 and Student_score <= 69:\n",
    "    print(\"Average\")\n",
    "else:\n",
    "    print(\"Below Average\")"
   ]
  },
  {
   "cell_type": "code",
   "execution_count": 33,
   "id": "b74b3aac",
   "metadata": {},
   "outputs": [
    {
     "name": "stdout",
     "output_type": "stream",
     "text": [
      "47500.0\n"
     ]
    }
   ],
   "source": [
    "# apply discount on online products\n",
    "price = 50000\n",
    "if price >= 100000:\n",
    "    discount = price *0.2\n",
    "    print(price -discount)\n",
    "elif price >= 50000 and price >= 99000:\n",
    "    discount = price *0.1\n",
    "    print(price -discount)\n",
    "elif price <=50000:\n",
    "    discount = price *0.05\n",
    "    print(price -discount)\n",
    "else:\n",
    "    print(N/A) "
   ]
  },
  {
   "cell_type": "code",
   "execution_count": 40,
   "id": "97f746a0",
   "metadata": {},
   "outputs": [
    {
     "name": "stdout",
     "output_type": "stream",
     "text": [
      "Lilian\n"
     ]
    }
   ],
   "source": [
    "student = ['Josh','Emmanuel','Dickson','Lilian','Chef','Accountant','Lawrence']\n",
    "print(student[3])\n",
    "student.extend([3])"
   ]
  },
  {
   "cell_type": "code",
   "execution_count": 41,
   "id": "62242269",
   "metadata": {},
   "outputs": [
    {
     "name": "stdout",
     "output_type": "stream",
     "text": [
      "['Josh', 'Emmanuel', 'Dickson', 'Lilian', 'Chef', 'Accountant', 'Lawrence', 3]\n"
     ]
    }
   ],
   "source": [
    "print(student)"
   ]
  },
  {
   "cell_type": "code",
   "execution_count": 51,
   "id": "af5ae2c7",
   "metadata": {},
   "outputs": [
    {
     "name": "stdout",
     "output_type": "stream",
     "text": [
      "67\n",
      "89\n"
     ]
    }
   ],
   "source": [
    "my_dict = {\n",
    "    'Age': [25,45,67,89],\n",
    "    'Sex': [\"M\",\"F\",\"M\",\"F\"],\n",
    "}\n",
    "print(my_dict['Age'][2]),\n",
    "print(my_dict['Age'][3])"
   ]
  },
  {
   "cell_type": "code",
   "execution_count": null,
   "id": "6bacd977",
   "metadata": {},
   "outputs": [],
   "source": []
  }
 ],
 "metadata": {
  "kernelspec": {
   "display_name": "Python 3 (ipykernel)",
   "language": "python",
   "name": "python3"
  },
  "language_info": {
   "codemirror_mode": {
    "name": "ipython",
    "version": 3
   },
   "file_extension": ".py",
   "mimetype": "text/x-python",
   "name": "python",
   "nbconvert_exporter": "python",
   "pygments_lexer": "ipython3",
   "version": "3.11.3"
  }
 },
 "nbformat": 4,
 "nbformat_minor": 5
}
